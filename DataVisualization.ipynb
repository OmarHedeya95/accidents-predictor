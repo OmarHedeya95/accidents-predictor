{
 "cells": [
  {
   "cell_type": "code",
   "execution_count": 66,
   "metadata": {},
   "outputs": [],
   "source": [
    "import pandas as pd\n",
    "import matplotlib.pyplot as plt"
   ]
  },
  {
   "cell_type": "markdown",
   "metadata": {},
   "source": [
    "# Data Understanding\n",
    "We first extract accidents happening before 2020 and then we understand how many different values for each column is there as well as how many different accident categories are there"
   ]
  },
  {
   "cell_type": "code",
   "execution_count": 69,
   "metadata": {},
   "outputs": [
    {
     "name": "stdout",
     "output_type": "stream",
     "text": [
      "MONATSZAHL       3\n",
      "AUSPRAEGUNG      3\n",
      "JAHR            20\n",
      "MONAT          241\n",
      "WERT           909\n",
      "dtype: int64\n",
      "Verkehrsunfälle    780\n",
      "Fluchtunfälle      520\n",
      "Alkoholunfälle     520\n",
      "Name: MONATSZAHL, dtype: int64\n"
     ]
    }
   ],
   "source": [
    "accidents_dataset = pd.read_csv('./GermanCarAccidentsStats.csv')\n",
    "#print(accidents_dataset.columns)\n",
    "\n",
    "features = ['MONATSZAHL','AUSPRAEGUNG', 'JAHR', 'MONAT', 'WERT']\n",
    "\n",
    "accidents_dataset = accidents_dataset[features]\n",
    "\n",
    "accidents_before_2020 = accidents_dataset[ accidents_dataset['JAHR'] < 2020]\n",
    "\n",
    "\n",
    "# How many different values in every column\n",
    "print(accidents_before_2020.nunique())\n",
    "\n",
    "#What are the different categories of accidents are there\n",
    "print(accidents_before_2020['MONATSZAHL'].value_counts())"
   ]
  },
  {
   "cell_type": "markdown",
   "metadata": {},
   "source": [
    "# Visualizing Accidents per Category\n",
    "Here we visualize the accidents count per year for every of the three accidents categories"
   ]
  },
  {
   "cell_type": "code",
   "execution_count": 68,
   "metadata": {},
   "outputs": [
    {
     "data": {
      "image/png": "[encoded data removed]",
      "text/plain": "<Figure size 640x480 with 1 Axes>"
     },
     "metadata": {},
     "output_type": "display_data"
    }
   ],
   "source": [
    "\n",
    "#print(accidents_before_2020[   ( ( accidents_before_2020['MONATSZAHL'] == 'Verkehrsunfälle' ) &   (accidents_before_2020['MONAT'] == 'Summe')  &  (accidents_before_2020['AUSPRAEGUNG'] == 'insgesamt')    )  ] )\n",
    "#print(accidents_before_2020[   ((accidents_before_2020['MONAT'] == 'Summe')  &  (accidents_before_2020['AUSPRAEGUNG'] == 'insgesamt')    )  ] )\n",
    "\n",
    "vehicle_accidents = accidents_before_2020[   ( ( accidents_before_2020['MONATSZAHL'] == 'Verkehrsunfälle' ) &   (accidents_before_2020['MONAT'] == 'Summe')  &  (accidents_before_2020['AUSPRAEGUNG'] == 'insgesamt')    )  ]\n",
    "hit_and_run_accidents = accidents_before_2020[   ( ( accidents_before_2020['MONATSZAHL'] == 'Fluchtunfälle' ) &   (accidents_before_2020['MONAT'] == 'Summe')  &  (accidents_before_2020['AUSPRAEGUNG'] == 'insgesamt')    )  ]\n",
    "alcohol_accidents = accidents_before_2020[   ( ( accidents_before_2020['MONATSZAHL'] == 'Alkoholunfälle' ) &   (accidents_before_2020['MONAT'] == 'Summe')  &  (accidents_before_2020['AUSPRAEGUNG'] == 'insgesamt')    )  ]\n",
    "\n",
    "years = [   i for i in range(2000, 2020 )   ]\n",
    "years.sort(reverse=True)\n",
    "\n",
    "accidents_per_year = pd.DataFrame(\n",
    "    {\n",
    "        \"Verkehrsunfälle\": vehicle_accidents['WERT'].to_numpy(),\n",
    "        \"Fluchtunfälle\": hit_and_run_accidents['WERT'].to_numpy(),\n",
    "        \"Alkoholunfälle\": alcohol_accidents['WERT'].to_numpy()\n",
    "    },\n",
    "    index= years\n",
    ")\n",
    "\n",
    "accidents_per_year.plot(kind='bar')\n",
    "plt.show()"
   ]
  },
  {
   "cell_type": "code",
   "execution_count": null,
   "metadata": {},
   "outputs": [],
   "source": []
  }
 ],
 "metadata": {
  "kernelspec": {
   "display_name": "Python 3.8.10 64-bit ('dps': conda)",
   "name": "python3810jvsc74a57bd06bcd4e13499e5818b08aa5039687225a8253a747de7fc163a2260b3c297289bd"
  },
  "language_info": {
   "codemirror_mode": {
    "name": "ipython",
    "version": 3
   },
   "file_extension": ".py",
   "mimetype": "text/x-python",
   "name": "python",
   "nbconvert_exporter": "python",
   "pygments_lexer": "ipython3",
   "version": "3.8.10"
  },
  "metadata": {
   "interpreter": {
    "hash": "6bcd4e13499e5818b08aa5039687225a8253a747de7fc163a2260b3c297289bd"
   }
  },
  "orig_nbformat": 2
 },
 "nbformat": 4,
 "nbformat_minor": 2
}